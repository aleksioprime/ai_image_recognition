{
  "cells": [
    {
      "cell_type": "markdown",
      "metadata": {
        "id": "7irjcB-5jIzK"
      },
      "source": [
        "<h1>Детектирование объектов на изображениях</h1>\n",
        "\n",
        "<h3>Обучение и тестирование модели детектора</h3>\n",
        "\n",
        "Источники:\n",
        "- https://github.com/EdjeElectronics/TensorFlow-Lite-Object-Detection-on-Android-and-Raspberry-Pi/blob/master/README.md\n",
        "- https://tensorflow-object-detection-api-tutorial.readthedocs.io/en/latest/index.html\n",
        "- https://github.com/tensorflow/models/blob/master/research/object_detection/g3doc/tf2.md\n",
        "- https://github.com/tensorflow/models/blob/master/research/object_detection/g3doc/tf2_detection_zoo.md\n",
        "\n",
        "Вы подготовили размеченный набор данных, состоящий из обучающего набора изображений, тестового набора изображений и набора изображений для оценки работы детектора.\n",
        "\n",
        "Сейчас вам необходимо войти в свой облачный диск на Google и в его корневом каталоге создать папку проекта (например, **neural_network**).\n",
        "\n",
        "После этого загрузите в каталог проекта папку **images** с набором данных для обучения\n",
        "\n",
        "Подключитесь к облачному диску Google и перейдите в свою папку проекта"
      ]
    },
    {
      "cell_type": "code",
      "execution_count": null,
      "metadata": {
        "id": "TOyav9LTIkRj"
      },
      "outputs": [],
      "source": [
        "from google.colab import drive\n",
        "drive.mount('/content/gdrive')\n",
        "\n",
        "WORK_DIR = '/content/gdrive/My Drive/neural_network'\n",
        "\n",
        "%cd '{WORK_DIR}'"
      ]
    },
    {
      "cell_type": "markdown",
      "metadata": {
        "id": "PtUrkjFCpjs6"
      },
      "source": [
        "Внимательно читайте следующие инструкции и выполняйте указанные команды. Удачи!"
      ]
    },
    {
      "cell_type": "markdown",
      "metadata": {
        "id": "MVvieBbwbw7Q"
      },
      "source": [
        "# Подготовка программного окружения"
      ]
    },
    {
      "cell_type": "markdown",
      "metadata": {
        "id": "leiiVvIZJz_2"
      },
      "source": [
        "* Загрузите библиотеки моделей TensorFlow"
      ]
    },
    {
      "cell_type": "code",
      "execution_count": null,
      "metadata": {
        "id": "OUIYQWJyJNqR"
      },
      "outputs": [],
      "source": [
        "!git clone https://github.com/tensorflow/models.git"
      ]
    },
    {
      "cell_type": "markdown",
      "metadata": {
        "id": "f3FF_PeSKaqM"
      },
      "source": [
        "* Установите все связанные библиотеки и инструменты"
      ]
    },
    {
      "cell_type": "code",
      "execution_count": null,
      "metadata": {
        "id": "Y_K3Q3NsKO3Y"
      },
      "outputs": [],
      "source": [
        "%cd '{WORK_DIR}/models/research/'\n",
        "!pip install protobuf==3.20.3\n",
        "!protoc object_detection/protos/*.proto --python_out=."
      ]
    },
    {
      "cell_type": "markdown",
      "metadata": {
        "id": "emzZoPIeK3e1"
      },
      "source": [
        "* Скопируйте файл установки TF Object Detection API и установите библиотеку (установка будет происходить в скрытом режиме)"
      ]
    },
    {
      "cell_type": "code",
      "execution_count": null,
      "metadata": {
        "id": "Rl28ZvsXKwN7"
      },
      "outputs": [],
      "source": [
        "%%capture\n",
        "!cp object_detection/packages/tf2/setup.py .\n",
        "!python -m pip install ."
      ]
    },
    {
      "cell_type": "markdown",
      "source": [
        "\n",
        "\n",
        "*   Понизьте версию TensorFlow для стабильности\n",
        "\n"
      ],
      "metadata": {
        "id": "fOpRsXN39IFS"
      }
    },
    {
      "cell_type": "code",
      "source": [
        "%%capture\n",
        "!pip install tensorflow==2.13.1"
      ],
      "metadata": {
        "id": "iiHJyBSw9P4g"
      },
      "execution_count": null,
      "outputs": []
    },
    {
      "cell_type": "markdown",
      "metadata": {
        "id": "nueSwPODX1Qt"
      },
      "source": [
        "* Добавьте системную переменную окружения path путь к каталогу research скачанного репозитория моделей TensorFlow"
      ]
    },
    {
      "cell_type": "code",
      "execution_count": null,
      "metadata": {
        "id": "K27Rtd_ZXYip"
      },
      "outputs": [],
      "source": [
        "import sys\n",
        "sys.path.append('{WORK_DIR}/models/research')"
      ]
    },
    {
      "cell_type": "markdown",
      "source": [
        "\n",
        "\n",
        "*   Установите CUDA\n",
        "\n"
      ],
      "metadata": {
        "id": "CRhw45G_gx0c"
      }
    },
    {
      "cell_type": "code",
      "source": [
        "!wget https://developer.download.nvidia.com/compute/cuda/repos/ubuntu1804/x86_64/cuda-ubuntu1804.pin\n",
        "!mv cuda-ubuntu1804.pin /etc/apt/preferences.d/cuda-repository-pin-600\n",
        "!wget http://developer.download.nvidia.com/compute/cuda/11.0.2/local_installers/cuda-repo-ubuntu1804-11-0-local_11.0.2-450.51.05-1_amd64.deb\n",
        "!dpkg -i cuda-repo-ubuntu1804-11-0-local_11.0.2-450.51.05-1_amd64.deb\n",
        "!apt-key add /var/cuda-repo-ubuntu1804-11-0-local/7fa2af80.pub\n",
        "!apt-get update && sudo apt-get install cuda-toolkit-11-0\n",
        "!export LD_LIBRARY_PATH=/usr/local/cuda-11.0/lib64:$LD_LIBRARY_PATH"
      ],
      "metadata": {
        "id": "w-4vnOIff92D"
      },
      "execution_count": null,
      "outputs": []
    },
    {
      "cell_type": "markdown",
      "metadata": {
        "id": "LbkiGzOwYQ4t"
      },
      "source": [
        "* Протестируйте установленные библиотеки"
      ]
    },
    {
      "cell_type": "code",
      "source": [
        "from google.colab import drive\n",
        "drive.mount('/content/gdrive')\n",
        "\n",
        "WORK_DIR = '/content/gdrive/My Drive/neural_network'\n",
        "%cd '{WORK_DIR}/models/research/'\n",
        "\n",
        "!pip install protobuf==3.20.3\n",
        "!protoc object_detection/protos/*.proto --python_out=."
      ],
      "metadata": {
        "id": "L0WwifqIgY7F"
      },
      "execution_count": null,
      "outputs": []
    },
    {
      "cell_type": "code",
      "execution_count": null,
      "metadata": {
        "id": "WaB2oeLgLTSJ"
      },
      "outputs": [],
      "source": [
        "!python object_detection/builders/model_builder_tf2_test.py"
      ]
    },
    {
      "cell_type": "markdown",
      "metadata": {
        "id": "jDved--JbhvE"
      },
      "source": [
        "# Создание карты меток и генерирование файлов TFRecord"
      ]
    },
    {
      "cell_type": "markdown",
      "metadata": {
        "id": "t3TmWupeWceQ"
      },
      "source": [
        "* Создайте папку annotations в каталоге своего проекта"
      ]
    },
    {
      "cell_type": "code",
      "execution_count": null,
      "metadata": {
        "id": "kt5BggeMU5X_"
      },
      "outputs": [],
      "source": [
        "import os\n",
        "%cd '{WORK_DIR}'\n",
        "if not(os.path.exists('annotations')):\n",
        "    os.mkdir('annotations')"
      ]
    },
    {
      "cell_type": "markdown",
      "metadata": {
        "id": "EqsU3Bo-ZGY8"
      },
      "source": [
        "* Создайте список словарей, каждый из которых хранит название метки (name) и её номер (id), а затем запишите его в файл в папке annotations с названием label_map.pbtxt, который будет хранить данные о метках"
      ]
    },
    {
      "cell_type": "code",
      "execution_count": null,
      "metadata": {
        "id": "pzzwisUsQBmL"
      },
      "outputs": [],
      "source": [
        "labels = [{'name':'ironman', 'id':1},\n",
        "          {'name':'mandalorian', 'id':2},\n",
        "          {'name':'thanos', 'id':3}]\n",
        "\n",
        "with open('annotations/label_map.pbtxt', 'w', encoding=\"utf-8\") as f:\n",
        "    for label in labels:\n",
        "        f.write('item { \\n')\n",
        "        f.write('\\tname:\\'{}\\'\\n'.format(label['name']))\n",
        "        f.write('\\tid:{}\\n'.format(label['id']))\n",
        "        f.write('}\\n')"
      ]
    },
    {
      "cell_type": "markdown",
      "metadata": {
        "id": "hnDtRTNMcYRK"
      },
      "source": [
        "* Создайте папку scripts в каталоге проекта и загрузите в неё скрипт generate_tfrecord.py"
      ]
    },
    {
      "cell_type": "code",
      "execution_count": null,
      "metadata": {
        "id": "L-lJJRa0coox"
      },
      "outputs": [],
      "source": [
        "import os\n",
        "%cd '{WORK_DIR}'\n",
        "if not(os.path.exists('scripts')):\n",
        "    os.mkdir('scripts')\n",
        "%cd '{WORK_DIR}/scripts'\n",
        "!wget \"https://tensorflow-object-detection-api-tutorial.readthedocs.io/en/latest/_downloads/da4babe668a8afb093cc7776d7e630f3/generate_tfrecord.py\""
      ]
    },
    {
      "cell_type": "markdown",
      "metadata": {
        "id": "23wDGfJsdqxm"
      },
      "source": [
        "* Запустить скрипт для генерирования файлов TFRecord набора обучающих данных и набора тестовых данных"
      ]
    },
    {
      "cell_type": "code",
      "execution_count": null,
      "metadata": {
        "id": "i9s1aS7aViAr"
      },
      "outputs": [],
      "source": [
        "%cd '{WORK_DIR}'\n",
        "!python scripts/generate_tfrecord.py -x 'images/train' -l 'annotations/label_map.pbtxt' -o 'annotations/train.record'\n",
        "!python scripts/generate_tfrecord.py -x 'images/test' -l 'annotations/label_map.pbtxt' -o 'annotations/test.record'"
      ]
    },
    {
      "cell_type": "markdown",
      "metadata": {
        "id": "FF4wJDUCfEpb"
      },
      "source": [
        "# Подготовка и трансферное обучение модели детектора"
      ]
    },
    {
      "cell_type": "markdown",
      "metadata": {
        "id": "XERw5mfyeekB"
      },
      "source": [
        "* создайте папку my_models, загрузите в неё обученную модель из коллекции [TensorFlow 2 Detection Model Zoo](https://github.com/tensorflow/models/blob/master/research/object_detection/g3doc/tf2_detection_zoo.md) и скопируйте файл pipeline в каталог своей модели для дальнейшей переконфигурации"
      ]
    },
    {
      "cell_type": "code",
      "execution_count": null,
      "metadata": {
        "id": "_2pw_i4af2oD"
      },
      "outputs": [],
      "source": [
        "%cd '{WORK_DIR}'\n",
        "\n",
        "MODEL_DIR_DOWNLOAD = 'model_downloaded'\n",
        "MODEL_DIR_MY = 'model_my'\n",
        "\n",
        "os.makedirs(MODEL_DIR_DOWNLOAD, exist_ok=True)\n",
        "\n",
        "!wget -P {MODEL_DIR_DOWNLOAD} \"http://download.tensorflow.org/models/object_detection/tf2/20200711/ssd_mobilenet_v2_fpnlite_320x320_coco17_tpu-8.tar.gz\"\n",
        "!tar -zxvf {MODEL_DIR_DOWNLOAD}/ssd_mobilenet_v2_fpnlite_320x320_coco17_tpu-8.tar.gz -C {MODEL_DIR_DOWNLOAD}\n",
        "\n",
        "os.makedirs(MODEL_DIR_MY, exist_ok=True)\n",
        "\n",
        "!cp {MODEL_DIR_DOWNLOAD}/ssd_mobilenet_v2_fpnlite_320x320_coco17_tpu-8/pipeline.config {MODEL_DIR_MY}/"
      ]
    },
    {
      "cell_type": "markdown",
      "metadata": {
        "id": "ulCxmhfMW2Dt"
      },
      "source": [
        "* скопируйте файлы для обучения и экспорта модели детектора в корневую папку проекта"
      ]
    },
    {
      "cell_type": "code",
      "execution_count": null,
      "metadata": {
        "id": "yzWJ9xntW7Fm"
      },
      "outputs": [],
      "source": [
        "%cd '{WORK_DIR}'\n",
        "!cp models/research/object_detection/model_main_tf2.py .\n",
        "!cp models/research/object_detection/exporter_main_v2.py .\n",
        "!cp models/research/object_detection/export_tflite_graph_tf2.py ."
      ]
    },
    {
      "cell_type": "markdown",
      "metadata": {
        "id": "96s7Efi6mnHz"
      },
      "source": [
        "* Обновите конфигурацию для трансферного обучения в файле pipeline.config, указав количество классов, размер пакета, файл чекпойнта обученной модели, файлы карты меток и TFRecord"
      ]
    },
    {
      "cell_type": "code",
      "execution_count": null,
      "metadata": {
        "id": "Igw8s63Gmnh1"
      },
      "outputs": [],
      "source": [
        "import tensorflow as tf\n",
        "from object_detection.utils import config_util\n",
        "from object_detection.protos import pipeline_pb2\n",
        "from google.protobuf import text_format\n",
        "\n",
        "PIPELINE_FILE = f'{MODEL_DIR_MY}/pipeline.config'\n",
        "\n",
        "config = config_util.get_configs_from_pipeline_file(f'{PIPELINE_FILE}')\n",
        "\n",
        "pipeline_config = pipeline_pb2.TrainEvalPipelineConfig()\n",
        "with tf.io.gfile.GFile(f'{PIPELINE_FILE}', \"r\") as f:\n",
        "    proto_str = f.read()\n",
        "    text_format.Merge(proto_str, pipeline_config)\n",
        "\n",
        "pipeline_config.model.ssd.num_classes = len(labels)\n",
        "pipeline_config.train_config.batch_size = 4\n",
        "pipeline_config.train_config.num_steps = 2000\n",
        "pipeline_config.train_config.fine_tune_checkpoint = f'{MODEL_DIR_DOWNLOAD}/ssd_mobilenet_v2_fpnlite_320x320_coco17_tpu-8/checkpoint/ckpt-0'\n",
        "pipeline_config.train_config.fine_tune_checkpoint_type = \"detection\"\n",
        "pipeline_config.train_input_reader.label_map_path= 'annotations/label_map.pbtxt'\n",
        "pipeline_config.train_input_reader.tf_record_input_reader.input_path[:] = ['annotations/train.record']\n",
        "pipeline_config.eval_input_reader[0].label_map_path = 'annotations/label_map.pbtxt'\n",
        "pipeline_config.eval_input_reader[0].tf_record_input_reader.input_path[:] = ['annotations/test.record']\n",
        "\n",
        "config_text = text_format.MessageToString(pipeline_config)\n",
        "with tf.io.gfile.GFile(f'{PIPELINE_FILE}', \"wb\") as f:\n",
        "    f.write(config_text)"
      ]
    },
    {
      "cell_type": "markdown",
      "metadata": {
        "id": "ixEycgVhotx-"
      },
      "source": [
        "* Запустите обучение модели детектора с выбранным количеством шагов"
      ]
    },
    {
      "cell_type": "code",
      "execution_count": null,
      "metadata": {
        "id": "NIT-g4LWowQv"
      },
      "outputs": [],
      "source": [
        "!python model_main_tf2.py \\\n",
        "    --pipeline_config_path={PIPELINE_FILE} \\\n",
        "    --model_dir={MODEL_DIR_MY} \\\n",
        "    --alsologtostderr \\\n",
        "    --sample_1_of_n_eval_examples=1"
      ]
    },
    {
      "cell_type": "markdown",
      "metadata": {
        "id": "uPIhOgQMtNaO"
      },
      "source": [
        "* Извлеките обученную модель детектора для дальнейшего использования в алгоритмах распознавания объектов"
      ]
    },
    {
      "cell_type": "code",
      "execution_count": null,
      "metadata": {
        "id": "E_7b0KjUrUhj"
      },
      "outputs": [],
      "source": [
        "!python exporter_main_v2.py \\\n",
        "    --input_type=image_tensor \\\n",
        "    --pipeline_config_path={PIPELINE_FILE} \\\n",
        "    --trained_checkpoint_dir={MODEL_DIR_MY} \\\n",
        "    --output_directory={MODEL_DIR_MY}/exported"
      ]
    },
    {
      "cell_type": "code",
      "source": [
        "!python export_tflite_graph_tf2.py \\\n",
        "    --trained_checkpoint_dir {MODEL_DIR_MY} \\\n",
        "    --output_directory {MODEL_DIR_MY}/tflite \\\n",
        "    --pipeline_config_path {PIPELINE_FILE}"
      ],
      "metadata": {
        "id": "fIf6-U42ZOp5"
      },
      "execution_count": null,
      "outputs": []
    },
    {
      "cell_type": "code",
      "source": [
        "# Convert exported graph file into TFLite model file\n",
        "import tensorflow as tf\n",
        "\n",
        "converter = tf.lite.TFLiteConverter.from_saved_model(f'{MODEL_DIR_MY}/tflite/saved_model')\n",
        "tflite_model = converter.convert()\n",
        "\n",
        "with open(f'{MODEL_DIR_MY}/tflite/model.tflite', 'wb') as f:\n",
        "  f.write(tflite_model)"
      ],
      "metadata": {
        "id": "Bb-F9vErl-fl"
      },
      "execution_count": null,
      "outputs": []
    },
    {
      "cell_type": "markdown",
      "metadata": {
        "id": "6RCi4IcSiI96"
      },
      "source": [
        "# Тестирование детектирования объектов на изображениях"
      ]
    },
    {
      "cell_type": "markdown",
      "metadata": {
        "id": "NVd7BZLv8tA7"
      },
      "source": [
        "* Загрузите сохранённую обученную модель"
      ]
    },
    {
      "cell_type": "code",
      "execution_count": null,
      "metadata": {
        "id": "bIocU6t88tpQ"
      },
      "outputs": [],
      "source": [
        "import tensorflow as tf\n",
        "import time\n",
        "from object_detection.utils import label_map_util\n",
        "from object_detection.utils import visualization_utils as viz_utils\n",
        "\n",
        "PATH_TO_SAVED_MODEL=f\"{MODEL_DIR_MY}/exported/saved_model\"\n",
        "\n",
        "print('Loading model...', end='')\n",
        "# Load saved model and build the detection function\n",
        "detect_fn=tf.saved_model.load(PATH_TO_SAVED_MODEL)\n",
        "\n",
        "print('Done!')"
      ]
    },
    {
      "cell_type": "markdown",
      "metadata": {
        "id": "iVIbMEzx9WVa"
      },
      "source": [
        "* Загрузите карту меток"
      ]
    },
    {
      "cell_type": "code",
      "execution_count": null,
      "metadata": {
        "id": "snTH352U9cME"
      },
      "outputs": [],
      "source": [
        "category_index=label_map_util.create_category_index_from_labelmap(f\"{WORK_DIR}/annotations/label_map.pbtxt\",use_display_name=True)"
      ]
    },
    {
      "cell_type": "markdown",
      "metadata": {
        "id": "XO5likvHEAzF"
      },
      "source": [
        "* Загрузите список изображений из папки images/eval"
      ]
    },
    {
      "cell_type": "code",
      "execution_count": null,
      "metadata": {
        "id": "erBQdM7wEWKr"
      },
      "outputs": [],
      "source": [
        "from imutils import paths\n",
        "import random\n",
        "\n",
        "images_test = list(paths.list_images(f\"{WORK_DIR}/images/test\"))\n",
        "\n",
        "random.shuffle(images_test)\n",
        "print(images_test)"
      ]
    },
    {
      "cell_type": "markdown",
      "metadata": {
        "id": "BPz9G44Div2D"
      },
      "source": [
        "* Запустите алгоритм детектирования объектов на подготовленных изображениях и наблюдайте за результатом"
      ]
    },
    {
      "cell_type": "code",
      "execution_count": null,
      "metadata": {
        "id": "FS8Z03DMFaei"
      },
      "outputs": [],
      "source": [
        "import tensorflow as tf\n",
        "import numpy as np\n",
        "from PIL import Image\n",
        "import matplotlib.pyplot as plt\n",
        "import warnings\n",
        "warnings.filterwarnings('ignore')\n",
        "import math\n",
        "\n",
        "def load_image_into_numpy_array(path):\n",
        "  return np.array(Image.open(path))\n",
        "\n",
        "%matplotlib inline\n",
        "num_images = len(images_test)\n",
        "cols = 3  # Количество изображений в ряду\n",
        "rows = math.ceil(num_images / cols)  # Округляем вверх, чтобы учесть все изображения\n",
        "\n",
        "plt.figure(figsize=(24, rows * 5))  # Автоматический размер\n",
        "\n",
        "\n",
        "for i, image_path in enumerate(images_test):\n",
        "  plt.subplot(rows, cols, i + 1)\n",
        "\n",
        "  image_np = load_image_into_numpy_array(image_path)\n",
        "  input_tensor = tf.convert_to_tensor(image_np)\n",
        "  input_tensor = input_tensor[tf.newaxis, ...]\n",
        "  detections = detect_fn(input_tensor)\n",
        "  num_detections = int(detections.pop('num_detections'))\n",
        "  detections = {key:value[0,:num_detections].numpy() for key,value in detections.items()}\n",
        "  detections['num_detections'] = num_detections\n",
        "  detections['detection_classes'] = detections['detection_classes'].astype(np.int64)\n",
        "  image_np_with_detections=image_np.copy()\n",
        "\n",
        "  viz_utils.visualize_boxes_and_labels_on_image_array(\n",
        "        image_np_with_detections,\n",
        "        detections['detection_boxes'],\n",
        "        detections['detection_classes'],\n",
        "        detections['detection_scores'],\n",
        "        category_index,\n",
        "        use_normalized_coordinates=True,\n",
        "        max_boxes_to_draw=100,\n",
        "        min_score_thresh=.5,\n",
        "        agnostic_mode=False)\n",
        "\n",
        "  plt.imshow(image_np_with_detections)\n",
        "  plt.axis('off')"
      ]
    }
  ],
  "metadata": {
    "accelerator": "GPU",
    "colab": {
      "provenance": []
    },
    "kernelspec": {
      "display_name": "Python 3",
      "name": "python3"
    },
    "language_info": {
      "name": "python"
    }
  },
  "nbformat": 4,
  "nbformat_minor": 0
}